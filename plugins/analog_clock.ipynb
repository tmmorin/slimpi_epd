{
 "cells": [
  {
   "cell_type": "code",
   "execution_count": null,
   "metadata": {},
   "outputs": [],
   "source": [
    "%load_ext autoreload\n",
    "%autoreload 2\n",
    "%reload_ext autoreload"
   ]
  },
  {
   "cell_type": "code",
   "execution_count": 206,
   "metadata": {},
   "outputs": [],
   "source": [
    "import epdlib\n",
    "import logging\n",
    "from datetime import datetime\n",
    "from PIL import Image, ImageDraw\n",
    "import math"
   ]
  },
  {
   "cell_type": "code",
   "execution_count": 61,
   "metadata": {},
   "outputs": [],
   "source": [
    "logger = logging.getLogger()"
   ]
  },
  {
   "cell_type": "code",
   "execution_count": 64,
   "metadata": {},
   "outputs": [],
   "source": [
    "logger.setLevel(logging.DEBUG)"
   ]
  },
  {
   "cell_type": "code",
   "execution_count": 3,
   "metadata": {},
   "outputs": [],
   "source": [
    "import sys\n",
    "sys.path.append('../')"
   ]
  },
  {
   "cell_type": "code",
   "execution_count": 7,
   "metadata": {},
   "outputs": [],
   "source": [
    "import layouts"
   ]
  },
  {
   "cell_type": "code",
   "execution_count": 4,
   "metadata": {},
   "outputs": [],
   "source": [
    "from waveshare_epd import epd5in83"
   ]
  },
  {
   "cell_type": "code",
   "execution_count": 107,
   "metadata": {},
   "outputs": [],
   "source": [
    "def check_num(func):\n",
    "    \"\"\"decorator function wrapper\"\"\"\n",
    "    def func_wrapper(d, *args, **kwargs):\n",
    "        \"\"\"Check for positive integers\n",
    "        Params:\n",
    "            d(int): integer to check\n",
    "        \n",
    "        Raises:\n",
    "            ValueError - values that are negative, not integer\"\"\"\n",
    "        if not isinstance(d, int):\n",
    "            raise ValueError (f'{d} is not an integer')\n",
    "        if d < 0:\n",
    "            raise ValueError (f'{d} < 0 {func} only accepts values >= 0')\n",
    "        return func(d, *args, **kwargs)\n",
    "    return func_wrapper"
   ]
  },
  {
   "cell_type": "code",
   "execution_count": null,
   "metadata": {},
   "outputs": [],
   "source": []
  },
  {
   "cell_type": "code",
   "execution_count": 20,
   "metadata": {},
   "outputs": [],
   "source": [
    "s = epdlib.Screen()\n",
    "s.epd = epd5in83"
   ]
  },
  {
   "cell_type": "code",
   "execution_count": 25,
   "metadata": {},
   "outputs": [],
   "source": [
    "b = epdlib.ImageBlock(area=(600, 600))"
   ]
  },
  {
   "cell_type": "code",
   "execution_count": 87,
   "metadata": {},
   "outputs": [
    {
     "name": "stderr",
     "output_type": "stream",
     "text": [
      "DEBUG:root:img_center: [240, 240]\n"
     ]
    },
    {
     "name": "stdout",
     "output_type": "stream",
     "text": [
      "[240, 240]\n"
     ]
    }
   ],
   "source": [
    "img_dim = [640, 480]\n",
    "max_radius = min(img_dim)\n",
    "clock_dim = (max_radius, max_radius)\n",
    "img_center = [int(clock_dim[0]/2), int(clock_dim[1]/2)]\n",
    "logging.debug(f'img_center: {img_center}')\n",
    "print(img_center)\n"
   ]
  },
  {
   "cell_type": "code",
   "execution_count": 88,
   "metadata": {},
   "outputs": [],
   "source": [
    "i = Image.new('RGBA', clock_dim, (255, 0, 0, 0))\n",
    "d = ImageDraw.Draw(i)"
   ]
  },
  {
   "cell_type": "code",
   "execution_count": 242,
   "metadata": {},
   "outputs": [],
   "source": [
    "def draw_tick(dim, fill=None, width=2):\n",
    "    color = (0, 0, 0)\n",
    "    if not isinstance(dim, (tuple, list)):\n",
    "        raise ValueError(f'dim is not a list or list like object: {dim}')\n",
    "    i = Image.new('RGBA', dim, (255, 0, 0, 0))\n",
    "    d = ImageDraw.Draw(i)\n",
    "    if fill:\n",
    "        fill = color\n",
    "    d.rectangle([(0, 0), (dim[0], dim[1])], fill=fill, outline=color, width=width)\n",
    "    \n",
    "    return i"
   ]
  },
  {
   "cell_type": "code",
   "execution_count": 513,
   "metadata": {},
   "outputs": [],
   "source": [
    "def rotate_object(obj, position, radius, translate=False):\n",
    "    if not isinstance(obj, Image.Image):\n",
    "        raise TypeError(f'`obj` must be of type PIL.Image.Image: {type(obj)}')\n",
    "    if 0 > position or position > 60:\n",
    "        raise ValueError(f'`position` must be between 0 and 60 inclusive: {position}')\n",
    "    \n",
    "#     dim = (radius, radius)\n",
    "#     i = Image.new('RGBA', dim, (255, 0, 0, 0))\n",
    "    dim = (obj.width, radius)\n",
    "    i = Image.new('RGBA', [t.width, radius], (150, 255, 10, 255))\n",
    "    i.paste(obj)\n",
    "#     d = ImageDraw.Draw(i)\n",
    "    q = i.rotate(-6*position, expand=True)\n",
    "    return q"
   ]
  },
  {
   "cell_type": "code",
   "execution_count": 514,
   "metadata": {},
   "outputs": [],
   "source": [
    "def basic_clock(area):\n",
    "    '''\n",
    "    return a PIL image object with a basic clock layout\n",
    "        dimensions are set to the maximum square that will fit within the area\n",
    "        \n",
    "    Paramaters:\n",
    "        area(`tuple` or `list`): X, Y dimensions of area to fill with a clock\n",
    "        \n",
    "    Returns:\n",
    "        PIL image object\n",
    "    '''\n",
    "    if not isinstance(area, (tuple, list)):\n",
    "        raise ValueError(f'area is not a list or list like object: {area}')\n",
    "    max_diameter = min(area)\n",
    "    clock_dim = (max_diameter, max_diameter)\n",
    "    clock_radius = int(max_diameter/2)\n",
    "    \n",
    "    img_center = [int(clock_dim[0]/2), int(clock_dim[0]/2)]\n",
    "    logging.debug(f'img_center = {img_center}')\n",
    "    i = Image.new('RGBA', clock_dim, (255, 0, 0, 0))\n",
    "    d = ImageDraw.Draw(i)\n",
    "    d.ellipse((0, 0, clock_dim[0], clock_dim[1]), outline=(0, 0, 0), fill=None, width=int(clock_radius*.02))\n",
    "    \n",
    "    perimiter = 2 * math.pi * clock_radius\n",
    "    major_tick_dim = [int(perimiter/60*3), int(clock_radius*.1)]\n",
    "    logging.debug(f'major tick dimensions: {major_tick_dim}')\n",
    "    \n",
    "    major_tick = draw_tick(major_tick_dim, True)\n",
    "    \n",
    "    for tick in [0, 5, 10, 15, 20, 25, 30, 35, 40, 45, 50, 55]: #, 25,30, 35, 40, 45, 50, 55]:\n",
    "#         logging.debug(f'pasting tick: {tick}')\n",
    "        angle = tick*6\n",
    "        unit_angle = math.radians(angle-90)\n",
    "        \n",
    "        my_tick = rotate_object(major_tick, tick, clock_radius-int(clock_radius*.02), translate=True)\n",
    "        \n",
    "        if math.cos(unit_angle) > 0:\n",
    "            x = clock_radius\n",
    "        else:\n",
    "            x = clock_radius - my_tick.width\n",
    "        \n",
    "        if math.sin(unit_angle) >= 0:\n",
    "            y = clock_radius\n",
    "        else:\n",
    "            y = clock_radius - my_tick.height\n",
    "            \n",
    "\n",
    "#         logging.debug(f'angle: {angle}\\n\\tx,y: {(x, y)}\\n\\tcos, sin: {math.cos(unit_angle)}, {math.sin(unit_angle)}\\n')\n",
    "\n",
    "        i.paste(my_tick, (x, y), my_tick)\n",
    "        \n",
    "    \n",
    "    return i"
   ]
  },
  {
   "cell_type": "code",
   "execution_count": 515,
   "metadata": {},
   "outputs": [
    {
     "name": "stderr",
     "output_type": "stream",
     "text": [
      "DEBUG:root:img_center = [450, 450]\n",
      "DEBUG:root:major tick dimensions: [141, 45]\n"
     ]
    },
    {
     "data": {
      "image/png": "[encoded data removed]",
      "text/plain": [
       "<PIL.Image.Image image mode=RGBA size=900x900 at 0xAED89A30>"
      ]
     },
     "execution_count": 515,
     "metadata": {},
     "output_type": "execute_result"
    }
   ],
   "source": [
    "q = basic_clock((900,900))\n",
    "# q.paste(t_r, (240, 240), t_r)\n",
    "q"
   ]
  },
  {
   "cell_type": "code",
   "execution_count": 392,
   "metadata": {},
   "outputs": [
    {
     "name": "stdout",
     "output_type": "stream",
     "text": [
      "min: 0\n",
      "\tangle: 0\n",
      "\tunit_angle:-90\n",
      "\tsin: -1.0\n",
      "\tcos: 6.123233995736766e-17\n",
      "min: 5\n",
      "\tangle: 30\n",
      "\tunit_angle:-60\n",
      "\tsin: -0.8660254037844386\n",
      "\tcos: 0.5000000000000001\n",
      "min: 10\n",
      "\tangle: 60\n",
      "\tunit_angle:-30\n",
      "\tsin: -0.49999999999999994\n",
      "\tcos: 0.8660254037844387\n",
      "min: 15\n",
      "\tangle: 90\n",
      "\tunit_angle:0\n",
      "\tsin: 0.0\n",
      "\tcos: 1.0\n",
      "min: 20\n",
      "\tangle: 120\n",
      "\tunit_angle:30\n",
      "\tsin: 0.49999999999999994\n",
      "\tcos: 0.8660254037844387\n",
      "min: 25\n",
      "\tangle: 150\n",
      "\tunit_angle:60\n",
      "\tsin: 0.8660254037844386\n",
      "\tcos: 0.5000000000000001\n",
      "min: 30\n",
      "\tangle: 180\n",
      "\tunit_angle:90\n",
      "\tsin: 1.0\n",
      "\tcos: 6.123233995736766e-17\n",
      "min: 35\n",
      "\tangle: 210\n",
      "\tunit_angle:120\n",
      "\tsin: 0.8660254037844387\n",
      "\tcos: -0.4999999999999998\n",
      "min: 40\n",
      "\tangle: 240\n",
      "\tunit_angle:150\n",
      "\tsin: 0.49999999999999994\n",
      "\tcos: -0.8660254037844387\n",
      "min: 45\n",
      "\tangle: 270\n",
      "\tunit_angle:180\n",
      "\tsin: 1.2246467991473532e-16\n",
      "\tcos: -1.0\n",
      "min: 50\n",
      "\tangle: 300\n",
      "\tunit_angle:210\n",
      "\tsin: -0.5000000000000001\n",
      "\tcos: -0.8660254037844386\n",
      "min: 55\n",
      "\tangle: 330\n",
      "\tunit_angle:240\n",
      "\tsin: -0.8660254037844384\n",
      "\tcos: -0.5000000000000004\n",
      "min: 60\n",
      "\tangle: 360\n",
      "\tunit_angle:270\n",
      "\tsin: -1.0\n",
      "\tcos: -1.8369701987210297e-16\n"
     ]
    }
   ],
   "source": [
    "for a in [0, 5, 10, 15, 20, 25, 30, 35, 40, 45, 50, 55, 60]:\n",
    "    angle = a*6\n",
    "    unit_angle = angle - 90\n",
    "    cos = math.cos(math.radians(unit_angle))\n",
    "    sin = math.sin(math.radians(unit_angle))\n",
    "    print(f'min: {a}\\n\\tangle: {angle}\\n\\tunit_angle:{unit_angle}\\n\\tsin: {sin}\\n\\tcos: {cos}')"
   ]
  },
  {
   "cell_type": "code",
   "execution_count": 277,
   "metadata": {},
   "outputs": [
    {
     "data": {
      "image/png": "[encoded data removed]",
      "text/plain": [
       "<PIL.Image.Image image mode=RGBA size=480x480 at 0xAEE3E050>"
      ]
     },
     "execution_count": 277,
     "metadata": {},
     "output_type": "execute_result"
    }
   ],
   "source": [
    "q"
   ]
  },
  {
   "cell_type": "code",
   "execution_count": null,
   "metadata": {},
   "outputs": [],
   "source": []
  }
 ],
 "metadata": {
  "kernelspec": {
   "display_name": "slimpi_epd-b1Rf9la8",
   "language": "python",
   "name": "slimpi_epd-b1rf9la8"
  },
  "language_info": {
   "codemirror_mode": {
    "name": "ipython",
    "version": 3
   },
   "file_extension": ".py",
   "mimetype": "text/x-python",
   "name": "python",
   "nbconvert_exporter": "python",
   "pygments_lexer": "ipython3",
   "version": "3.7.3"
  }
 },
 "nbformat": 4,
 "nbformat_minor": 4
}
