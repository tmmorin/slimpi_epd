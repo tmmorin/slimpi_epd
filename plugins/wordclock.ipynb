{
 "cells": [
  {
   "cell_type": "code",
   "execution_count": 5,
   "metadata": {},
   "outputs": [
    {
     "name": "stdout",
     "output_type": "stream",
     "text": [
      "[NbConvertApp] Converting notebook wordclock.ipynb to python\n",
      "[NbConvertApp] Writing 3291 bytes to wordclock.py\n"
     ]
    }
   ],
   "source": [
    "!jupyter-nbconvert --to python --template python_clean wordclock.ipynb"
   ]
  },
  {
   "cell_type": "code",
   "execution_count": 6,
   "metadata": {},
   "outputs": [],
   "source": [
    "import logging\n",
    "from datetime import datetime\n",
    "from random import choice"
   ]
  },
  {
   "cell_type": "code",
   "execution_count": 7,
   "metadata": {},
   "outputs": [],
   "source": [
    "def time_list(time):\n",
    "    '''Returns time as list [h, m] of type int\n",
    "    \n",
    "    Args:\n",
    "        time(`str`): time in colon separated format - 09:34; 23:15'''\n",
    "    return  [int(i)  for i in time.split(':')]"
   ]
  },
  {
   "cell_type": "code",
   "execution_count": 8,
   "metadata": {},
   "outputs": [],
   "source": [
    "def time_now():\n",
    "    return datetime.now().strftime(\"%H:%M\")"
   ]
  },
  {
   "cell_type": "code",
   "execution_count": 9,
   "metadata": {},
   "outputs": [],
   "source": [
    "def map_val(a, b, s):\n",
    "    '''map range `a` to `b` for value `s`\n",
    "\n",
    "    Args:\n",
    "        a(2 `tuple` of `int`): (start, end) of input values\n",
    "        b(2 `tuple` of `int`): (start, end) of output values\n",
    "        s(`float`, `int`): value to map\n",
    "    Returns:\n",
    "        `int`'''\n",
    "    a1, a2 = a\n",
    "    b1, b2 = b\n",
    "    \n",
    "    t = b1 + ((s-a1) * (b2-b1))/(a2-a1)\n",
    "    \n",
    "    return round(t)"
   ]
  },
  {
   "cell_type": "code",
   "execution_count": 10,
   "metadata": {},
   "outputs": [],
   "source": [
    "def update(time=None):    \n",
    "    hours = {'1':  ['one', 'late'],\n",
    "             '2':  ['two', 'really late', 'go to bed'],\n",
    "             '3':  ['three', 'too late', \"why aren't you in bed\"],\n",
    "             '4':  ['four', 'early morning', 'stupid early'],\n",
    "             '5':  ['five', 'crack of dark'],\n",
    "             '6':  ['six', 'crack of dawn'],\n",
    "             '7':  ['seven'],\n",
    "             '8':  ['eight'],\n",
    "             '9':  ['nine'],\n",
    "             '10': ['ten'],\n",
    "             '11': ['eleven'],\n",
    "             '12': ['noon', 'twelve'],\n",
    "             '13': ['one'],\n",
    "             '14': ['two'],\n",
    "             '15': ['three'],\n",
    "             '16': ['four'],\n",
    "             '17': ['five'],\n",
    "             '18': ['six'],\n",
    "             '19': ['seven'],\n",
    "             '20': ['eight'],\n",
    "             '21': ['nine'],\n",
    "             '22': ['ten'],\n",
    "             '23': ['eleven'],\n",
    "             '0' : ['midnight', 'twelve', 'dark']}\n",
    "\n",
    "    minutes = {'0': [\"'o clock\", \"on the dot\"],\n",
    "               '6': [\"'o clock\", \"on the dot\"],\n",
    "               '1': ['ten after'],\n",
    "               '2': ['twenty after'],\n",
    "               '3': ['half past', 'thirty after', 'thirty past'],\n",
    "               '4': [\"twenty 'til\"],\n",
    "               '5': [\"ten 'til\"]}\n",
    "\n",
    "    stems = ['The time is nearly', \"It is about\", \"It is around\", \"It is almost\"]\n",
    "\n",
    "\n",
    "    if time:\n",
    "        now = time\n",
    "        logging.debug(f'using {time}')\n",
    "        t_list = time_list(time)\n",
    "    else:\n",
    "        now = time_now()\n",
    "        logging.debug(f'using {now}')\n",
    "        t_list = time_list(now)\n",
    "        \n",
    "    # this range shifts the period of the list so times around the 'tens' round nicely up and down        \n",
    "    minute = map_val((1, 59), (0, 6), t_list[1])\n",
    "\n",
    "    # set the hour appropriately - from 'after' to 'til'\n",
    "    if t_list[1] <= 34:\n",
    "        hour_str = hours[str(t_list[0])]\n",
    "    else:\n",
    "        try:\n",
    "            hour_str = hours[str(t_list[0]+1)]\n",
    "        except KeyError as e:\n",
    "            # wrap around to zero'th index in the hours list\n",
    "            hour_str = hours[str(t_list[0]+1 - len(hours))]\n",
    "            hour_str = hours[str(0)]\n",
    "        \n",
    "    min_str = minutes[str(minute)]\n",
    "    \n",
    "    # properly organize the time string\n",
    "    # 'o clock times\n",
    "    if minute == 0 or minute == 6:\n",
    "        time_str = f'{choice(hour_str).title()} {choice(min_str).title()}'\n",
    "                      \n",
    "    else: \n",
    "        time_str = f'{choice(min_str).title()} {choice(hour_str).title()}'\n",
    "    \n",
    "    \n",
    "    myTime = {'wordtime': f'{choice(stems)} {time_str}',\n",
    "              'time': now,\n",
    "              'mode': None}\n",
    "    \n",
    "    \n",
    "    return myTime"
   ]
  },
  {
   "cell_type": "code",
   "execution_count": null,
   "metadata": {},
   "outputs": [],
   "source": []
  }
 ],
 "metadata": {
  "kernelspec": {
   "display_name": "slimpi_epd-b1Rf9la8",
   "language": "python",
   "name": "slimpi_epd-b1rf9la8"
  },
  "language_info": {
   "codemirror_mode": {
    "name": "ipython",
    "version": 3
   },
   "file_extension": ".py",
   "mimetype": "text/x-python",
   "name": "python",
   "nbconvert_exporter": "python",
   "pygments_lexer": "ipython3",
   "version": "3.7.3"
  }
 },
 "nbformat": 4,
 "nbformat_minor": 2
}
